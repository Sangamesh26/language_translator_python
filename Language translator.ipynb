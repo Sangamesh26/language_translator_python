{
 "cells": [
  {
   "cell_type": "code",
   "execution_count": 17,
   "metadata": {},
   "outputs": [
    {
     "name": "stdout",
     "output_type": "stream",
     "text": [
      "say hello to initiate the translator\n",
      "-------------------------------------\n",
      "Your text to translate\n",
      "say something.....\n",
      "The original text ::  I am Sangamesh\n",
      "ನಾನು ಸಂಗಮೇಶ\n"
     ]
    }
   ],
   "source": [
    "import speech_recognition as sr\n",
    "from gtts import gTTS\n",
    "from googletrans import Translator\n",
    "import os\n",
    "translator=Translator()\n",
    "rec=sr.Recognizer()\n",
    "mc=sr.Microphone()\n",
    "with mc as source:\n",
    "    print(\"say hello to initiate the translator\")\n",
    "    audio=rec.listen(source)\n",
    "    print(\"-------------------------------------\")\n",
    "    text=rec.recognize_google(audio)\n",
    "    text=text.lower()\n",
    "if 'hello' in text:\n",
    "    print(\"Your text to translate\")\n",
    "    with mc as source:\n",
    "        print(\"say something.....\")\n",
    "        audio=rec.listen(source)\n",
    "        text1=rec.recognize_google(audio)\n",
    "        try:\n",
    "            print(\"The original text :: \",text1)\n",
    "            text_to_translate = translator.translate(text1, src= 'en', dest= 'kn')\n",
    "            text = text_to_translate.text  \n",
    "            print(text)\n",
    "            speak = gTTS(text=text, lang='kn', slow= False) \n",
    "            speak.save(\"captured_voice.mp3\")  \n",
    "            os.system(\"start captured_voice.mp3\") \n",
    "        except: \n",
    "             print(\"not recognized\")\n",
    "        \n",
    "        \n",
    "        \n",
    "        "
   ]
  },
  {
   "cell_type": "code",
   "execution_count": null,
   "metadata": {},
   "outputs": [],
   "source": []
  }
 ],
 "metadata": {
  "kernelspec": {
   "display_name": "Python 3",
   "language": "python",
   "name": "python3"
  },
  "language_info": {
   "codemirror_mode": {
    "name": "ipython",
    "version": 3
   },
   "file_extension": ".py",
   "mimetype": "text/x-python",
   "name": "python",
   "nbconvert_exporter": "python",
   "pygments_lexer": "ipython3",
   "version": "3.7.6"
  }
 },
 "nbformat": 4,
 "nbformat_minor": 4
}
